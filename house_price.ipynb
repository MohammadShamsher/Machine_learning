{
 "cells": [
  {
   "cell_type": "markdown",
   "metadata": {},
   "source": [
    "# Importing Libraries"
   ]
  },
  {
   "cell_type": "code",
   "execution_count": 1,
   "metadata": {
    "scrolled": false
   },
   "outputs": [
    {
     "name": "stderr",
     "output_type": "stream",
     "text": [
      "C:\\Users\\Acer\\Anaconda3\\lib\\site-packages\\pandas\\compat\\_optional.py:138: UserWarning: Pandas requires version '2.7.0' or newer of 'numexpr' (version '2.6.9' currently installed).\n",
      "  warnings.warn(msg, UserWarning)\n",
      "C:\\Users\\Acer\\Anaconda3\\lib\\site-packages\\statsmodels\\tools\\_testing.py:19: FutureWarning: pandas.util.testing is deprecated. Use the functions in the public API at pandas.testing instead.\n",
      "  import pandas.util.testing as tm\n"
     ]
    }
   ],
   "source": [
    "import pandas as pd\n",
    "import numpy as np\n",
    "import matplotlib.pyplot as plt\n",
    "#%matplotlib inlines\n",
    "import seaborn as sns\n",
    "pd.pandas.set_option(\"display.max_columns\",None)\n",
    "#pd.pandas.set_option(\"display.max_rows\",None)"
   ]
  },
  {
   "cell_type": "markdown",
   "metadata": {},
   "source": [
    "# Loading Dataset"
   ]
  },
  {
   "cell_type": "code",
   "execution_count": 2,
   "metadata": {
    "scrolled": true
   },
   "outputs": [
    {
     "data": {
      "text/html": [
       "<div>\n",
       "<style scoped>\n",
       "    .dataframe tbody tr th:only-of-type {\n",
       "        vertical-align: middle;\n",
       "    }\n",
       "\n",
       "    .dataframe tbody tr th {\n",
       "        vertical-align: top;\n",
       "    }\n",
       "\n",
       "    .dataframe thead th {\n",
       "        text-align: right;\n",
       "    }\n",
       "</style>\n",
       "<table border=\"1\" class=\"dataframe\">\n",
       "  <thead>\n",
       "    <tr style=\"text-align: right;\">\n",
       "      <th></th>\n",
       "      <th>bedrooms</th>\n",
       "      <th>bathrooms</th>\n",
       "      <th>sqft_living</th>\n",
       "      <th>sqft_lot</th>\n",
       "      <th>floors</th>\n",
       "      <th>waterfront</th>\n",
       "      <th>view</th>\n",
       "      <th>condition</th>\n",
       "      <th>grade</th>\n",
       "      <th>sqft_above</th>\n",
       "      <th>sqft_basement</th>\n",
       "      <th>yr_built</th>\n",
       "      <th>yr_renovated</th>\n",
       "      <th>zipcode</th>\n",
       "      <th>lat</th>\n",
       "      <th>long</th>\n",
       "      <th>sqft_living15</th>\n",
       "      <th>sqft_lot15</th>\n",
       "      <th>price</th>\n",
       "    </tr>\n",
       "  </thead>\n",
       "  <tbody>\n",
       "    <tr>\n",
       "      <th>0</th>\n",
       "      <td>3</td>\n",
       "      <td>1.00</td>\n",
       "      <td>1180</td>\n",
       "      <td>5650</td>\n",
       "      <td>1.0</td>\n",
       "      <td>0</td>\n",
       "      <td>0</td>\n",
       "      <td>3</td>\n",
       "      <td>7</td>\n",
       "      <td>1180</td>\n",
       "      <td>0</td>\n",
       "      <td>1955</td>\n",
       "      <td>0</td>\n",
       "      <td>98178</td>\n",
       "      <td>47.5112</td>\n",
       "      <td>-122.257</td>\n",
       "      <td>1340</td>\n",
       "      <td>5650</td>\n",
       "      <td>221900.0</td>\n",
       "    </tr>\n",
       "    <tr>\n",
       "      <th>1</th>\n",
       "      <td>3</td>\n",
       "      <td>2.25</td>\n",
       "      <td>2570</td>\n",
       "      <td>7242</td>\n",
       "      <td>2.0</td>\n",
       "      <td>0</td>\n",
       "      <td>0</td>\n",
       "      <td>3</td>\n",
       "      <td>7</td>\n",
       "      <td>2170</td>\n",
       "      <td>400</td>\n",
       "      <td>1951</td>\n",
       "      <td>1991</td>\n",
       "      <td>98125</td>\n",
       "      <td>47.7210</td>\n",
       "      <td>-122.319</td>\n",
       "      <td>1690</td>\n",
       "      <td>7639</td>\n",
       "      <td>538000.0</td>\n",
       "    </tr>\n",
       "    <tr>\n",
       "      <th>2</th>\n",
       "      <td>2</td>\n",
       "      <td>1.00</td>\n",
       "      <td>770</td>\n",
       "      <td>10000</td>\n",
       "      <td>1.0</td>\n",
       "      <td>0</td>\n",
       "      <td>0</td>\n",
       "      <td>3</td>\n",
       "      <td>6</td>\n",
       "      <td>770</td>\n",
       "      <td>0</td>\n",
       "      <td>1933</td>\n",
       "      <td>0</td>\n",
       "      <td>98028</td>\n",
       "      <td>47.7379</td>\n",
       "      <td>-122.233</td>\n",
       "      <td>2720</td>\n",
       "      <td>8062</td>\n",
       "      <td>180000.0</td>\n",
       "    </tr>\n",
       "    <tr>\n",
       "      <th>3</th>\n",
       "      <td>4</td>\n",
       "      <td>3.00</td>\n",
       "      <td>1960</td>\n",
       "      <td>5000</td>\n",
       "      <td>1.0</td>\n",
       "      <td>0</td>\n",
       "      <td>0</td>\n",
       "      <td>5</td>\n",
       "      <td>7</td>\n",
       "      <td>1050</td>\n",
       "      <td>910</td>\n",
       "      <td>1965</td>\n",
       "      <td>0</td>\n",
       "      <td>98136</td>\n",
       "      <td>47.5208</td>\n",
       "      <td>-122.393</td>\n",
       "      <td>1360</td>\n",
       "      <td>5000</td>\n",
       "      <td>604000.0</td>\n",
       "    </tr>\n",
       "    <tr>\n",
       "      <th>4</th>\n",
       "      <td>3</td>\n",
       "      <td>2.00</td>\n",
       "      <td>1680</td>\n",
       "      <td>8080</td>\n",
       "      <td>1.0</td>\n",
       "      <td>0</td>\n",
       "      <td>0</td>\n",
       "      <td>3</td>\n",
       "      <td>8</td>\n",
       "      <td>1680</td>\n",
       "      <td>0</td>\n",
       "      <td>1987</td>\n",
       "      <td>0</td>\n",
       "      <td>98074</td>\n",
       "      <td>47.6168</td>\n",
       "      <td>-122.045</td>\n",
       "      <td>1800</td>\n",
       "      <td>7503</td>\n",
       "      <td>510000.0</td>\n",
       "    </tr>\n",
       "    <tr>\n",
       "      <th>...</th>\n",
       "      <td>...</td>\n",
       "      <td>...</td>\n",
       "      <td>...</td>\n",
       "      <td>...</td>\n",
       "      <td>...</td>\n",
       "      <td>...</td>\n",
       "      <td>...</td>\n",
       "      <td>...</td>\n",
       "      <td>...</td>\n",
       "      <td>...</td>\n",
       "      <td>...</td>\n",
       "      <td>...</td>\n",
       "      <td>...</td>\n",
       "      <td>...</td>\n",
       "      <td>...</td>\n",
       "      <td>...</td>\n",
       "      <td>...</td>\n",
       "      <td>...</td>\n",
       "      <td>...</td>\n",
       "    </tr>\n",
       "    <tr>\n",
       "      <th>21592</th>\n",
       "      <td>3</td>\n",
       "      <td>2.50</td>\n",
       "      <td>1530</td>\n",
       "      <td>1131</td>\n",
       "      <td>3.0</td>\n",
       "      <td>0</td>\n",
       "      <td>0</td>\n",
       "      <td>3</td>\n",
       "      <td>8</td>\n",
       "      <td>1530</td>\n",
       "      <td>0</td>\n",
       "      <td>2009</td>\n",
       "      <td>0</td>\n",
       "      <td>98103</td>\n",
       "      <td>47.6993</td>\n",
       "      <td>-122.346</td>\n",
       "      <td>1530</td>\n",
       "      <td>1509</td>\n",
       "      <td>360000.0</td>\n",
       "    </tr>\n",
       "    <tr>\n",
       "      <th>21593</th>\n",
       "      <td>4</td>\n",
       "      <td>2.50</td>\n",
       "      <td>2310</td>\n",
       "      <td>5813</td>\n",
       "      <td>2.0</td>\n",
       "      <td>0</td>\n",
       "      <td>0</td>\n",
       "      <td>3</td>\n",
       "      <td>8</td>\n",
       "      <td>2310</td>\n",
       "      <td>0</td>\n",
       "      <td>2014</td>\n",
       "      <td>0</td>\n",
       "      <td>98146</td>\n",
       "      <td>47.5107</td>\n",
       "      <td>-122.362</td>\n",
       "      <td>1830</td>\n",
       "      <td>7200</td>\n",
       "      <td>400000.0</td>\n",
       "    </tr>\n",
       "    <tr>\n",
       "      <th>21594</th>\n",
       "      <td>2</td>\n",
       "      <td>0.75</td>\n",
       "      <td>1020</td>\n",
       "      <td>1350</td>\n",
       "      <td>2.0</td>\n",
       "      <td>0</td>\n",
       "      <td>0</td>\n",
       "      <td>3</td>\n",
       "      <td>7</td>\n",
       "      <td>1020</td>\n",
       "      <td>0</td>\n",
       "      <td>2009</td>\n",
       "      <td>0</td>\n",
       "      <td>98144</td>\n",
       "      <td>47.5944</td>\n",
       "      <td>-122.299</td>\n",
       "      <td>1020</td>\n",
       "      <td>2007</td>\n",
       "      <td>402101.0</td>\n",
       "    </tr>\n",
       "    <tr>\n",
       "      <th>21595</th>\n",
       "      <td>3</td>\n",
       "      <td>2.50</td>\n",
       "      <td>1600</td>\n",
       "      <td>2388</td>\n",
       "      <td>2.0</td>\n",
       "      <td>0</td>\n",
       "      <td>0</td>\n",
       "      <td>3</td>\n",
       "      <td>8</td>\n",
       "      <td>1600</td>\n",
       "      <td>0</td>\n",
       "      <td>2004</td>\n",
       "      <td>0</td>\n",
       "      <td>98027</td>\n",
       "      <td>47.5345</td>\n",
       "      <td>-122.069</td>\n",
       "      <td>1410</td>\n",
       "      <td>1287</td>\n",
       "      <td>400000.0</td>\n",
       "    </tr>\n",
       "    <tr>\n",
       "      <th>21596</th>\n",
       "      <td>2</td>\n",
       "      <td>0.75</td>\n",
       "      <td>1020</td>\n",
       "      <td>1076</td>\n",
       "      <td>2.0</td>\n",
       "      <td>0</td>\n",
       "      <td>0</td>\n",
       "      <td>3</td>\n",
       "      <td>7</td>\n",
       "      <td>1020</td>\n",
       "      <td>0</td>\n",
       "      <td>2008</td>\n",
       "      <td>0</td>\n",
       "      <td>98144</td>\n",
       "      <td>47.5941</td>\n",
       "      <td>-122.299</td>\n",
       "      <td>1020</td>\n",
       "      <td>1357</td>\n",
       "      <td>325000.0</td>\n",
       "    </tr>\n",
       "  </tbody>\n",
       "</table>\n",
       "<p>21597 rows × 19 columns</p>\n",
       "</div>"
      ],
      "text/plain": [
       "       bedrooms  bathrooms  sqft_living  sqft_lot  floors  waterfront  view  \\\n",
       "0             3       1.00         1180      5650     1.0           0     0   \n",
       "1             3       2.25         2570      7242     2.0           0     0   \n",
       "2             2       1.00          770     10000     1.0           0     0   \n",
       "3             4       3.00         1960      5000     1.0           0     0   \n",
       "4             3       2.00         1680      8080     1.0           0     0   \n",
       "...         ...        ...          ...       ...     ...         ...   ...   \n",
       "21592         3       2.50         1530      1131     3.0           0     0   \n",
       "21593         4       2.50         2310      5813     2.0           0     0   \n",
       "21594         2       0.75         1020      1350     2.0           0     0   \n",
       "21595         3       2.50         1600      2388     2.0           0     0   \n",
       "21596         2       0.75         1020      1076     2.0           0     0   \n",
       "\n",
       "       condition  grade  sqft_above  sqft_basement  yr_built  yr_renovated  \\\n",
       "0              3      7        1180              0      1955             0   \n",
       "1              3      7        2170            400      1951          1991   \n",
       "2              3      6         770              0      1933             0   \n",
       "3              5      7        1050            910      1965             0   \n",
       "4              3      8        1680              0      1987             0   \n",
       "...          ...    ...         ...            ...       ...           ...   \n",
       "21592          3      8        1530              0      2009             0   \n",
       "21593          3      8        2310              0      2014             0   \n",
       "21594          3      7        1020              0      2009             0   \n",
       "21595          3      8        1600              0      2004             0   \n",
       "21596          3      7        1020              0      2008             0   \n",
       "\n",
       "       zipcode      lat     long  sqft_living15  sqft_lot15     price  \n",
       "0        98178  47.5112 -122.257           1340        5650  221900.0  \n",
       "1        98125  47.7210 -122.319           1690        7639  538000.0  \n",
       "2        98028  47.7379 -122.233           2720        8062  180000.0  \n",
       "3        98136  47.5208 -122.393           1360        5000  604000.0  \n",
       "4        98074  47.6168 -122.045           1800        7503  510000.0  \n",
       "...        ...      ...      ...            ...         ...       ...  \n",
       "21592    98103  47.6993 -122.346           1530        1509  360000.0  \n",
       "21593    98146  47.5107 -122.362           1830        7200  400000.0  \n",
       "21594    98144  47.5944 -122.299           1020        2007  402101.0  \n",
       "21595    98027  47.5345 -122.069           1410        1287  400000.0  \n",
       "21596    98144  47.5941 -122.299           1020        1357  325000.0  \n",
       "\n",
       "[21597 rows x 19 columns]"
      ]
     },
     "execution_count": 2,
     "metadata": {},
     "output_type": "execute_result"
    }
   ],
   "source": [
    "data=pd.read_csv(\"house.csv\")\n",
    "data"
   ]
  },
  {
   "cell_type": "code",
   "execution_count": null,
   "metadata": {},
   "outputs": [],
   "source": []
  },
  {
   "cell_type": "markdown",
   "metadata": {},
   "source": [
    "# Checking For Null"
   ]
  },
  {
   "cell_type": "code",
   "execution_count": 3,
   "metadata": {},
   "outputs": [],
   "source": [
    "\n",
    "features_with_na=[features for features in data.columns if data[features].isnull().sum()]\n",
    "\n",
    "for feature in features_with_na:\n",
    "    \n",
    "    print(feature,(data[feature].isnull().sum()))\n",
    "    \n",
    "    #print(feature,np.round(data[feature].isnull().mean(),4),\"% missing values\")"
   ]
  },
  {
   "cell_type": "code",
   "execution_count": null,
   "metadata": {},
   "outputs": [],
   "source": []
  },
  {
   "cell_type": "code",
   "execution_count": null,
   "metadata": {},
   "outputs": [],
   "source": []
  },
  {
   "cell_type": "markdown",
   "metadata": {},
   "source": [
    "# Exploratory Data Analysis"
   ]
  },
  {
   "cell_type": "code",
   "execution_count": 4,
   "metadata": {},
   "outputs": [
    {
     "data": {
      "text/plain": [
       "Text(0.5, 1.0, 'Year Sold Vs Sale Price')"
      ]
     },
     "execution_count": 4,
     "metadata": {},
     "output_type": "execute_result"
    },
    {
     "data": {
      "image/png": "[encoded data removed]",
      "text/plain": [
       "<Figure size 432x288 with 1 Axes>"
      ]
     },
     "metadata": {
      "needs_background": "light"
     },
     "output_type": "display_data"
    }
   ],
   "source": [
    "#we groupby data w.r.t yrbyuilt and then plot it to check whether it has any effect on price\n",
    "\n",
    "data.groupby(\"yr_built\")['price'].median().plot()\n",
    "plt.xlabel(\"yr_built\")\n",
    "plt.ylabel(\"Median of House Price\")\n",
    "plt.title(\"Year Sold Vs Sale Price\")"
   ]
  },
  {
   "cell_type": "code",
   "execution_count": null,
   "metadata": {},
   "outputs": [],
   "source": []
  },
  {
   "cell_type": "markdown",
   "metadata": {},
   "source": [
    "# Extracting Numerical Features"
   ]
  },
  {
   "cell_type": "code",
   "execution_count": 5,
   "metadata": {},
   "outputs": [
    {
     "name": "stdout",
     "output_type": "stream",
     "text": [
      "Number of Numeric Variables  19\n"
     ]
    },
    {
     "data": {
      "text/html": [
       "<div>\n",
       "<style scoped>\n",
       "    .dataframe tbody tr th:only-of-type {\n",
       "        vertical-align: middle;\n",
       "    }\n",
       "\n",
       "    .dataframe tbody tr th {\n",
       "        vertical-align: top;\n",
       "    }\n",
       "\n",
       "    .dataframe thead th {\n",
       "        text-align: right;\n",
       "    }\n",
       "</style>\n",
       "<table border=\"1\" class=\"dataframe\">\n",
       "  <thead>\n",
       "    <tr style=\"text-align: right;\">\n",
       "      <th></th>\n",
       "      <th>bedrooms</th>\n",
       "      <th>bathrooms</th>\n",
       "      <th>sqft_living</th>\n",
       "      <th>sqft_lot</th>\n",
       "      <th>floors</th>\n",
       "      <th>waterfront</th>\n",
       "      <th>view</th>\n",
       "      <th>condition</th>\n",
       "      <th>grade</th>\n",
       "      <th>sqft_above</th>\n",
       "      <th>sqft_basement</th>\n",
       "      <th>yr_built</th>\n",
       "      <th>yr_renovated</th>\n",
       "      <th>zipcode</th>\n",
       "      <th>lat</th>\n",
       "      <th>long</th>\n",
       "      <th>sqft_living15</th>\n",
       "      <th>sqft_lot15</th>\n",
       "      <th>price</th>\n",
       "    </tr>\n",
       "  </thead>\n",
       "  <tbody>\n",
       "    <tr>\n",
       "      <th>0</th>\n",
       "      <td>3</td>\n",
       "      <td>1.00</td>\n",
       "      <td>1180</td>\n",
       "      <td>5650</td>\n",
       "      <td>1.0</td>\n",
       "      <td>0</td>\n",
       "      <td>0</td>\n",
       "      <td>3</td>\n",
       "      <td>7</td>\n",
       "      <td>1180</td>\n",
       "      <td>0</td>\n",
       "      <td>1955</td>\n",
       "      <td>0</td>\n",
       "      <td>98178</td>\n",
       "      <td>47.5112</td>\n",
       "      <td>-122.257</td>\n",
       "      <td>1340</td>\n",
       "      <td>5650</td>\n",
       "      <td>221900.0</td>\n",
       "    </tr>\n",
       "    <tr>\n",
       "      <th>1</th>\n",
       "      <td>3</td>\n",
       "      <td>2.25</td>\n",
       "      <td>2570</td>\n",
       "      <td>7242</td>\n",
       "      <td>2.0</td>\n",
       "      <td>0</td>\n",
       "      <td>0</td>\n",
       "      <td>3</td>\n",
       "      <td>7</td>\n",
       "      <td>2170</td>\n",
       "      <td>400</td>\n",
       "      <td>1951</td>\n",
       "      <td>1991</td>\n",
       "      <td>98125</td>\n",
       "      <td>47.7210</td>\n",
       "      <td>-122.319</td>\n",
       "      <td>1690</td>\n",
       "      <td>7639</td>\n",
       "      <td>538000.0</td>\n",
       "    </tr>\n",
       "    <tr>\n",
       "      <th>2</th>\n",
       "      <td>2</td>\n",
       "      <td>1.00</td>\n",
       "      <td>770</td>\n",
       "      <td>10000</td>\n",
       "      <td>1.0</td>\n",
       "      <td>0</td>\n",
       "      <td>0</td>\n",
       "      <td>3</td>\n",
       "      <td>6</td>\n",
       "      <td>770</td>\n",
       "      <td>0</td>\n",
       "      <td>1933</td>\n",
       "      <td>0</td>\n",
       "      <td>98028</td>\n",
       "      <td>47.7379</td>\n",
       "      <td>-122.233</td>\n",
       "      <td>2720</td>\n",
       "      <td>8062</td>\n",
       "      <td>180000.0</td>\n",
       "    </tr>\n",
       "    <tr>\n",
       "      <th>3</th>\n",
       "      <td>4</td>\n",
       "      <td>3.00</td>\n",
       "      <td>1960</td>\n",
       "      <td>5000</td>\n",
       "      <td>1.0</td>\n",
       "      <td>0</td>\n",
       "      <td>0</td>\n",
       "      <td>5</td>\n",
       "      <td>7</td>\n",
       "      <td>1050</td>\n",
       "      <td>910</td>\n",
       "      <td>1965</td>\n",
       "      <td>0</td>\n",
       "      <td>98136</td>\n",
       "      <td>47.5208</td>\n",
       "      <td>-122.393</td>\n",
       "      <td>1360</td>\n",
       "      <td>5000</td>\n",
       "      <td>604000.0</td>\n",
       "    </tr>\n",
       "    <tr>\n",
       "      <th>4</th>\n",
       "      <td>3</td>\n",
       "      <td>2.00</td>\n",
       "      <td>1680</td>\n",
       "      <td>8080</td>\n",
       "      <td>1.0</td>\n",
       "      <td>0</td>\n",
       "      <td>0</td>\n",
       "      <td>3</td>\n",
       "      <td>8</td>\n",
       "      <td>1680</td>\n",
       "      <td>0</td>\n",
       "      <td>1987</td>\n",
       "      <td>0</td>\n",
       "      <td>98074</td>\n",
       "      <td>47.6168</td>\n",
       "      <td>-122.045</td>\n",
       "      <td>1800</td>\n",
       "      <td>7503</td>\n",
       "      <td>510000.0</td>\n",
       "    </tr>\n",
       "  </tbody>\n",
       "</table>\n",
       "</div>"
      ],
      "text/plain": [
       "   bedrooms  bathrooms  sqft_living  sqft_lot  floors  waterfront  view  \\\n",
       "0         3       1.00         1180      5650     1.0           0     0   \n",
       "1         3       2.25         2570      7242     2.0           0     0   \n",
       "2         2       1.00          770     10000     1.0           0     0   \n",
       "3         4       3.00         1960      5000     1.0           0     0   \n",
       "4         3       2.00         1680      8080     1.0           0     0   \n",
       "\n",
       "   condition  grade  sqft_above  sqft_basement  yr_built  yr_renovated  \\\n",
       "0          3      7        1180              0      1955             0   \n",
       "1          3      7        2170            400      1951          1991   \n",
       "2          3      6         770              0      1933             0   \n",
       "3          5      7        1050            910      1965             0   \n",
       "4          3      8        1680              0      1987             0   \n",
       "\n",
       "   zipcode      lat     long  sqft_living15  sqft_lot15     price  \n",
       "0    98178  47.5112 -122.257           1340        5650  221900.0  \n",
       "1    98125  47.7210 -122.319           1690        7639  538000.0  \n",
       "2    98028  47.7379 -122.233           2720        8062  180000.0  \n",
       "3    98136  47.5208 -122.393           1360        5000  604000.0  \n",
       "4    98074  47.6168 -122.045           1800        7503  510000.0  "
      ]
     },
     "execution_count": 5,
     "metadata": {},
     "output_type": "execute_result"
    }
   ],
   "source": [
    "#All those columns whose dtype is not object will be consider as Numerical columns\n",
    "\n",
    "numerical_features=[feature for feature in data.columns if data[feature].dtype!='object']\n",
    "print(\"Number of Numeric Variables \",len(numerical_features))\n",
    "data[numerical_features].head(5)"
   ]
  },
  {
   "cell_type": "code",
   "execution_count": 6,
   "metadata": {},
   "outputs": [
    {
     "name": "stdout",
     "output_type": "stream",
     "text": [
      "Total Discrete Variables 6\n"
     ]
    }
   ],
   "source": [
    "# All those numerical columns who contans unique data less then 25 is considered as discrete features\n",
    "\n",
    "discrete_feature=[feature for feature in numerical_features if len(data[feature].unique())<25 ]\n",
    "print(\"Total Discrete Variables {}\".format(len(discrete_feature)))"
   ]
  },
  {
   "cell_type": "markdown",
   "metadata": {},
   "source": [
    "# Impact of Independent Features on Sale Price"
   ]
  },
  {
   "cell_type": "code",
   "execution_count": 7,
   "metadata": {
    "scrolled": true
   },
   "outputs": [
    {
     "data": {
      "image/png": "[encoded data removed]",
      "text/plain": [
       "<Figure size 432x288 with 1 Axes>"
      ]
     },
     "metadata": {
      "needs_background": "light"
     },
     "output_type": "display_data"
    },
    {
     "data": {
      "image/png": "[encoded data removed]",
      "text/plain": [
       "<Figure size 432x288 with 1 Axes>"
      ]
     },
     "metadata": {
      "needs_background": "light"
     },
     "output_type": "display_data"
    },
    {
     "data": {
      "image/png": "[encoded data removed]",
      "text/plain": [
       "<Figure size 432x288 with 1 Axes>"
      ]
     },
     "metadata": {
      "needs_background": "light"
     },
     "output_type": "display_data"
    },
    {
     "data": {
      "image/png": "[encoded data removed]",
      "text/plain": [
       "<Figure size 432x288 with 1 Axes>"
      ]
     },
     "metadata": {
      "needs_background": "light"
     },
     "output_type": "display_data"
    },
    {
     "data": {
      "image/png": "[encoded data removed]",
      "text/plain": [
       "<Figure size 432x288 with 1 Axes>"
      ]
     },
     "metadata": {
      "needs_background": "light"
     },
     "output_type": "display_data"
    },
    {
     "data": {
      "image/png": "[encoded data removed]",
      "text/plain": [
       "<Figure size 432x288 with 1 Axes>"
      ]
     },
     "metadata": {
      "needs_background": "light"
     },
     "output_type": "display_data"
    }
   ],
   "source": [
    "# we will iterate loop over all the discrete columns to check its dependency on Sales Price of House \n",
    "for feature in discrete_feature:\n",
    "    dataset=data.copy()\n",
    "    data.groupby(feature)['price'].median().plot.bar()\n",
    "    plt.xlabel(feature)\n",
    "    plt.ylabel(\"SalePrice\")\n",
    "    plt.title(feature)\n",
    "    plt.show()"
   ]
  },
  {
   "cell_type": "markdown",
   "metadata": {},
   "source": [
    "# Distribution of Continuous Features"
   ]
  },
  {
   "cell_type": "code",
   "execution_count": 8,
   "metadata": {},
   "outputs": [
    {
     "name": "stdout",
     "output_type": "stream",
     "text": [
      "Total Continuous Variables 13\n"
     ]
    }
   ],
   "source": [
    "continuous_feature=[feature for feature in numerical_features if feature not in discrete_feature]\n",
    "print(\"Total Continuous Variables {}\".format(len(continuous_feature)))"
   ]
  },
  {
   "cell_type": "code",
   "execution_count": 9,
   "metadata": {
    "scrolled": false
   },
   "outputs": [
    {
     "data": {
      "image/png": "[encoded data removed]",
      "text/plain": [
       "<Figure size 432x288 with 1 Axes>"
      ]
     },
     "metadata": {
      "needs_background": "light"
     },
     "output_type": "display_data"
    },
    {
     "data": {
      "image/png": "[encoded data removed]",
      "text/plain": [
       "<Figure size 432x288 with 1 Axes>"
      ]
     },
     "metadata": {
      "needs_background": "light"
     },
     "output_type": "display_data"
    },
    {
     "data": {
      "image/png": "[encoded data removed]",
      "text/plain": [
       "<Figure size 432x288 with 1 Axes>"
      ]
     },
     "metadata": {
      "needs_background": "light"
     },
     "output_type": "display_data"
    },
    {
     "data": {
      "image/png": "[encoded data removed]",
      "text/plain": [
       "<Figure size 432x288 with 1 Axes>"
      ]
     },
     "metadata": {
      "needs_background": "light"
     },
     "output_type": "display_data"
    },
    {
     "data": {
      "image/png": "[encoded data removed]",
      "text/plain": [
       "<Figure size 432x288 with 1 Axes>"
      ]
     },
     "metadata": {
      "needs_background": "light"
     },
     "output_type": "display_data"
    },
    {
     "data": {
      "image/png": "[encoded data removed]",
      "text/plain": [
       "<Figure size 432x288 with 1 Axes>"
      ]
     },
     "metadata": {
      "needs_background": "light"
     },
     "output_type": "display_data"
    },
    {
     "data": {
      "image/png": "[encoded data removed]",
      "text/plain": [
       "<Figure size 432x288 with 1 Axes>"
      ]
     },
     "metadata": {
      "needs_background": "light"
     },
     "output_type": "display_data"
    },
    {
     "data": {
      "image/png": "[encoded data removed]",
      "text/plain": [
       "<Figure size 432x288 with 1 Axes>"
      ]
     },
     "metadata": {
      "needs_background": "light"
     },
     "output_type": "display_data"
    },
    {
     "data": {
      "image/png": "[encoded data removed]",
      "text/plain": [
       "<Figure size 432x288 with 1 Axes>"
      ]
     },
     "metadata": {
      "needs_background": "light"
     },
     "output_type": "display_data"
    },
    {
     "data": {
      "image/png": "[encoded data removed]",
      "text/plain": [
       "<Figure size 432x288 with 1 Axes>"
      ]
     },
     "metadata": {
      "needs_background": "light"
     },
     "output_type": "display_data"
    },
    {
     "data": {
      "image/png": "[encoded data removed]",
      "text/plain": [
       "<Figure size 432x288 with 1 Axes>"
      ]
     },
     "metadata": {
      "needs_background": "light"
     },
     "output_type": "display_data"
    },
    {
     "data": {
      "image/png": "[encoded data removed]",
      "text/plain": [
       "<Figure size 432x288 with 1 Axes>"
      ]
     },
     "metadata": {
      "needs_background": "light"
     },
     "output_type": "display_data"
    },
    {
     "data": {
      "image/png": "[encoded data removed]",
      "text/plain": [
       "<Figure size 432x288 with 1 Axes>"
      ]
     },
     "metadata": {
      "needs_background": "light"
     },
     "output_type": "display_data"
    }
   ],
   "source": [
    "\n",
    "for feature in continuous_feature:\n",
    "    dataset=data.copy()\n",
    "    data[feature].hist(bins=25)\n",
    "    plt.xlabel(feature)\n",
    "    plt.ylabel(\"Count\")\n",
    "    plt.title(feature)\n",
    "    plt.show()"
   ]
  },
  {
   "cell_type": "markdown",
   "metadata": {},
   "source": [
    "# Outlier Detection"
   ]
  },
  {
   "cell_type": "code",
   "execution_count": 10,
   "metadata": {
    "scrolled": true
   },
   "outputs": [
    {
     "data": {
      "image/png": "[encoded data removed]",
      "text/plain": [
       "<Figure size 432x288 with 1 Axes>"
      ]
     },
     "metadata": {
      "needs_background": "light"
     },
     "output_type": "display_data"
    },
    {
     "data": {
      "image/png": "[encoded data removed]",
      "text/plain": [
       "<Figure size 432x288 with 1 Axes>"
      ]
     },
     "metadata": {
      "needs_background": "light"
     },
     "output_type": "display_data"
    },
    {
     "data": {
      "image/png": "[encoded data removed]",
      "text/plain": [
       "<Figure size 432x288 with 1 Axes>"
      ]
     },
     "metadata": {
      "needs_background": "light"
     },
     "output_type": "display_data"
    },
    {
     "data": {
      "image/png": "[encoded data removed]",
      "text/plain": [
       "<Figure size 432x288 with 1 Axes>"
      ]
     },
     "metadata": {
      "needs_background": "light"
     },
     "output_type": "display_data"
    },
    {
     "data": {
      "image/png": "[encoded data removed]",
      "text/plain": [
       "<Figure size 432x288 with 1 Axes>"
      ]
     },
     "metadata": {
      "needs_background": "light"
     },
     "output_type": "display_data"
    },
    {
     "data": {
      "image/png": "[encoded data removed]",
      "text/plain": [
       "<Figure size 432x288 with 1 Axes>"
      ]
     },
     "metadata": {
      "needs_background": "light"
     },
     "output_type": "display_data"
    },
    {
     "data": {
      "image/png": "[encoded data removed]",
      "text/plain": [
       "<Figure size 432x288 with 1 Axes>"
      ]
     },
     "metadata": {
      "needs_background": "light"
     },
     "output_type": "display_data"
    },
    {
     "name": "stderr",
     "output_type": "stream",
     "text": [
      "C:\\Users\\Acer\\Anaconda3\\lib\\site-packages\\pandas\\core\\arraylike.py:364: RuntimeWarning: invalid value encountered in log\n",
      "  result = getattr(ufunc, method)(*inputs, **kwargs)\n"
     ]
    },
    {
     "data": {
      "image/png": "[encoded data removed]",
      "text/plain": [
       "<Figure size 432x288 with 1 Axes>"
      ]
     },
     "metadata": {
      "needs_background": "light"
     },
     "output_type": "display_data"
    },
    {
     "data": {
      "image/png": "[encoded data removed]",
      "text/plain": [
       "<Figure size 432x288 with 1 Axes>"
      ]
     },
     "metadata": {
      "needs_background": "light"
     },
     "output_type": "display_data"
    },
    {
     "data": {
      "image/png": "[encoded data removed]",
      "text/plain": [
       "<Figure size 432x288 with 1 Axes>"
      ]
     },
     "metadata": {
      "needs_background": "light"
     },
     "output_type": "display_data"
    },
    {
     "data": {
      "image/png": "[encoded data removed]",
      "text/plain": [
       "<Figure size 432x288 with 1 Axes>"
      ]
     },
     "metadata": {
      "needs_background": "light"
     },
     "output_type": "display_data"
    }
   ],
   "source": [
    "# Boxplot is used to identify outliers in a dataset features\n",
    "# so we will iterate loop over all  the features that have continuous values to check for outliers\n",
    "for feature in continuous_feature:\n",
    "    dataset2=data.copy()\n",
    "    if 0 in dataset[feature].unique():\n",
    "        pass\n",
    "    else:\n",
    "        dataset2[feature]=np.log(dataset[feature])\n",
    "        #Also take sales Price log too as the sale price is not perfectly Guassian Distributed\n",
    "        #dataset[\"price\"]=np.log(dataset[\"price\"])\n",
    "        dataset2.boxplot(column=feature)\n",
    "        plt.ylabel(feature)\n",
    "        plt.title(feature)\n",
    "        plt.show()"
   ]
  },
  {
   "cell_type": "markdown",
   "metadata": {},
   "source": [
    "# Removing Outliers using IQR Method "
   ]
  },
  {
   "cell_type": "code",
   "execution_count": 11,
   "metadata": {},
   "outputs": [],
   "source": [
    "# Inter quartile range method is used to remove outliers from columns by calculating its lower and upper quartile\n",
    "# values below lower quartile and greater then upper quartile will be considered as outliers and we will be droping it\n",
    "\n",
    "numerical_features=[feature for feature in data.columns if data[feature].dtype!='object']\n",
    "\n",
    "for feature in numerical_features:\n",
    "        q1=dataset[feature].quantile(0.25)\n",
    "        q3=dataset[feature].quantile(0.75)\n",
    "        iqr=q3-q1\n",
    "        lower_lim=q1-1.5*iqr\n",
    "        upper_lim=q3+1.5*iqr\n",
    "        \n",
    "        dataset=dataset[(dataset[feature]<=upper_lim) & (dataset[feature]>=lower_lim)]\n",
    "    \n",
    "\n",
    "    \n",
    "    \n",
    "    \n",
    "  \n",
    "        "
   ]
  },
  {
   "cell_type": "code",
   "execution_count": 29,
   "metadata": {},
   "outputs": [
    {
     "data": {
      "text/html": [
       "<div>\n",
       "<style scoped>\n",
       "    .dataframe tbody tr th:only-of-type {\n",
       "        vertical-align: middle;\n",
       "    }\n",
       "\n",
       "    .dataframe tbody tr th {\n",
       "        vertical-align: top;\n",
       "    }\n",
       "\n",
       "    .dataframe thead th {\n",
       "        text-align: right;\n",
       "    }\n",
       "</style>\n",
       "<table border=\"1\" class=\"dataframe\">\n",
       "  <thead>\n",
       "    <tr style=\"text-align: right;\">\n",
       "      <th></th>\n",
       "      <th>bedrooms</th>\n",
       "      <th>bathrooms</th>\n",
       "      <th>sqft_living</th>\n",
       "      <th>sqft_lot</th>\n",
       "      <th>floors</th>\n",
       "      <th>waterfront</th>\n",
       "      <th>view</th>\n",
       "      <th>condition</th>\n",
       "      <th>grade</th>\n",
       "      <th>sqft_above</th>\n",
       "      <th>sqft_basement</th>\n",
       "      <th>yr_built</th>\n",
       "      <th>yr_renovated</th>\n",
       "      <th>zipcode</th>\n",
       "      <th>lat</th>\n",
       "      <th>long</th>\n",
       "      <th>sqft_living15</th>\n",
       "      <th>sqft_lot15</th>\n",
       "      <th>price</th>\n",
       "    </tr>\n",
       "  </thead>\n",
       "  <tbody>\n",
       "    <tr>\n",
       "      <th>0</th>\n",
       "      <td>3</td>\n",
       "      <td>1.00</td>\n",
       "      <td>1180</td>\n",
       "      <td>5650</td>\n",
       "      <td>1.0</td>\n",
       "      <td>0</td>\n",
       "      <td>0</td>\n",
       "      <td>3</td>\n",
       "      <td>7</td>\n",
       "      <td>1180</td>\n",
       "      <td>0</td>\n",
       "      <td>1955</td>\n",
       "      <td>0</td>\n",
       "      <td>98178</td>\n",
       "      <td>47.5112</td>\n",
       "      <td>-122.257</td>\n",
       "      <td>1340</td>\n",
       "      <td>5650</td>\n",
       "      <td>221900.0</td>\n",
       "    </tr>\n",
       "    <tr>\n",
       "      <th>2</th>\n",
       "      <td>2</td>\n",
       "      <td>1.00</td>\n",
       "      <td>770</td>\n",
       "      <td>10000</td>\n",
       "      <td>1.0</td>\n",
       "      <td>0</td>\n",
       "      <td>0</td>\n",
       "      <td>3</td>\n",
       "      <td>6</td>\n",
       "      <td>770</td>\n",
       "      <td>0</td>\n",
       "      <td>1933</td>\n",
       "      <td>0</td>\n",
       "      <td>98028</td>\n",
       "      <td>47.7379</td>\n",
       "      <td>-122.233</td>\n",
       "      <td>2720</td>\n",
       "      <td>8062</td>\n",
       "      <td>180000.0</td>\n",
       "    </tr>\n",
       "    <tr>\n",
       "      <th>3</th>\n",
       "      <td>4</td>\n",
       "      <td>3.00</td>\n",
       "      <td>1960</td>\n",
       "      <td>5000</td>\n",
       "      <td>1.0</td>\n",
       "      <td>0</td>\n",
       "      <td>0</td>\n",
       "      <td>5</td>\n",
       "      <td>7</td>\n",
       "      <td>1050</td>\n",
       "      <td>910</td>\n",
       "      <td>1965</td>\n",
       "      <td>0</td>\n",
       "      <td>98136</td>\n",
       "      <td>47.5208</td>\n",
       "      <td>-122.393</td>\n",
       "      <td>1360</td>\n",
       "      <td>5000</td>\n",
       "      <td>604000.0</td>\n",
       "    </tr>\n",
       "    <tr>\n",
       "      <th>4</th>\n",
       "      <td>3</td>\n",
       "      <td>2.00</td>\n",
       "      <td>1680</td>\n",
       "      <td>8080</td>\n",
       "      <td>1.0</td>\n",
       "      <td>0</td>\n",
       "      <td>0</td>\n",
       "      <td>3</td>\n",
       "      <td>8</td>\n",
       "      <td>1680</td>\n",
       "      <td>0</td>\n",
       "      <td>1987</td>\n",
       "      <td>0</td>\n",
       "      <td>98074</td>\n",
       "      <td>47.6168</td>\n",
       "      <td>-122.045</td>\n",
       "      <td>1800</td>\n",
       "      <td>7503</td>\n",
       "      <td>510000.0</td>\n",
       "    </tr>\n",
       "    <tr>\n",
       "      <th>6</th>\n",
       "      <td>3</td>\n",
       "      <td>2.25</td>\n",
       "      <td>1715</td>\n",
       "      <td>6819</td>\n",
       "      <td>2.0</td>\n",
       "      <td>0</td>\n",
       "      <td>0</td>\n",
       "      <td>3</td>\n",
       "      <td>7</td>\n",
       "      <td>1715</td>\n",
       "      <td>0</td>\n",
       "      <td>1995</td>\n",
       "      <td>0</td>\n",
       "      <td>98003</td>\n",
       "      <td>47.3097</td>\n",
       "      <td>-122.327</td>\n",
       "      <td>2238</td>\n",
       "      <td>6819</td>\n",
       "      <td>257500.0</td>\n",
       "    </tr>\n",
       "    <tr>\n",
       "      <th>...</th>\n",
       "      <td>...</td>\n",
       "      <td>...</td>\n",
       "      <td>...</td>\n",
       "      <td>...</td>\n",
       "      <td>...</td>\n",
       "      <td>...</td>\n",
       "      <td>...</td>\n",
       "      <td>...</td>\n",
       "      <td>...</td>\n",
       "      <td>...</td>\n",
       "      <td>...</td>\n",
       "      <td>...</td>\n",
       "      <td>...</td>\n",
       "      <td>...</td>\n",
       "      <td>...</td>\n",
       "      <td>...</td>\n",
       "      <td>...</td>\n",
       "      <td>...</td>\n",
       "      <td>...</td>\n",
       "    </tr>\n",
       "    <tr>\n",
       "      <th>21592</th>\n",
       "      <td>3</td>\n",
       "      <td>2.50</td>\n",
       "      <td>1530</td>\n",
       "      <td>1131</td>\n",
       "      <td>3.0</td>\n",
       "      <td>0</td>\n",
       "      <td>0</td>\n",
       "      <td>3</td>\n",
       "      <td>8</td>\n",
       "      <td>1530</td>\n",
       "      <td>0</td>\n",
       "      <td>2009</td>\n",
       "      <td>0</td>\n",
       "      <td>98103</td>\n",
       "      <td>47.6993</td>\n",
       "      <td>-122.346</td>\n",
       "      <td>1530</td>\n",
       "      <td>1509</td>\n",
       "      <td>360000.0</td>\n",
       "    </tr>\n",
       "    <tr>\n",
       "      <th>21593</th>\n",
       "      <td>4</td>\n",
       "      <td>2.50</td>\n",
       "      <td>2310</td>\n",
       "      <td>5813</td>\n",
       "      <td>2.0</td>\n",
       "      <td>0</td>\n",
       "      <td>0</td>\n",
       "      <td>3</td>\n",
       "      <td>8</td>\n",
       "      <td>2310</td>\n",
       "      <td>0</td>\n",
       "      <td>2014</td>\n",
       "      <td>0</td>\n",
       "      <td>98146</td>\n",
       "      <td>47.5107</td>\n",
       "      <td>-122.362</td>\n",
       "      <td>1830</td>\n",
       "      <td>7200</td>\n",
       "      <td>400000.0</td>\n",
       "    </tr>\n",
       "    <tr>\n",
       "      <th>21594</th>\n",
       "      <td>2</td>\n",
       "      <td>0.75</td>\n",
       "      <td>1020</td>\n",
       "      <td>1350</td>\n",
       "      <td>2.0</td>\n",
       "      <td>0</td>\n",
       "      <td>0</td>\n",
       "      <td>3</td>\n",
       "      <td>7</td>\n",
       "      <td>1020</td>\n",
       "      <td>0</td>\n",
       "      <td>2009</td>\n",
       "      <td>0</td>\n",
       "      <td>98144</td>\n",
       "      <td>47.5944</td>\n",
       "      <td>-122.299</td>\n",
       "      <td>1020</td>\n",
       "      <td>2007</td>\n",
       "      <td>402101.0</td>\n",
       "    </tr>\n",
       "    <tr>\n",
       "      <th>21595</th>\n",
       "      <td>3</td>\n",
       "      <td>2.50</td>\n",
       "      <td>1600</td>\n",
       "      <td>2388</td>\n",
       "      <td>2.0</td>\n",
       "      <td>0</td>\n",
       "      <td>0</td>\n",
       "      <td>3</td>\n",
       "      <td>8</td>\n",
       "      <td>1600</td>\n",
       "      <td>0</td>\n",
       "      <td>2004</td>\n",
       "      <td>0</td>\n",
       "      <td>98027</td>\n",
       "      <td>47.5345</td>\n",
       "      <td>-122.069</td>\n",
       "      <td>1410</td>\n",
       "      <td>1287</td>\n",
       "      <td>400000.0</td>\n",
       "    </tr>\n",
       "    <tr>\n",
       "      <th>21596</th>\n",
       "      <td>2</td>\n",
       "      <td>0.75</td>\n",
       "      <td>1020</td>\n",
       "      <td>1076</td>\n",
       "      <td>2.0</td>\n",
       "      <td>0</td>\n",
       "      <td>0</td>\n",
       "      <td>3</td>\n",
       "      <td>7</td>\n",
       "      <td>1020</td>\n",
       "      <td>0</td>\n",
       "      <td>2008</td>\n",
       "      <td>0</td>\n",
       "      <td>98144</td>\n",
       "      <td>47.5941</td>\n",
       "      <td>-122.299</td>\n",
       "      <td>1020</td>\n",
       "      <td>1357</td>\n",
       "      <td>325000.0</td>\n",
       "    </tr>\n",
       "  </tbody>\n",
       "</table>\n",
       "<p>13660 rows × 19 columns</p>\n",
       "</div>"
      ],
      "text/plain": [
       "       bedrooms  bathrooms  sqft_living  sqft_lot  floors  waterfront  view  \\\n",
       "0             3       1.00         1180      5650     1.0           0     0   \n",
       "2             2       1.00          770     10000     1.0           0     0   \n",
       "3             4       3.00         1960      5000     1.0           0     0   \n",
       "4             3       2.00         1680      8080     1.0           0     0   \n",
       "6             3       2.25         1715      6819     2.0           0     0   \n",
       "...         ...        ...          ...       ...     ...         ...   ...   \n",
       "21592         3       2.50         1530      1131     3.0           0     0   \n",
       "21593         4       2.50         2310      5813     2.0           0     0   \n",
       "21594         2       0.75         1020      1350     2.0           0     0   \n",
       "21595         3       2.50         1600      2388     2.0           0     0   \n",
       "21596         2       0.75         1020      1076     2.0           0     0   \n",
       "\n",
       "       condition  grade  sqft_above  sqft_basement  yr_built  yr_renovated  \\\n",
       "0              3      7        1180              0      1955             0   \n",
       "2              3      6         770              0      1933             0   \n",
       "3              5      7        1050            910      1965             0   \n",
       "4              3      8        1680              0      1987             0   \n",
       "6              3      7        1715              0      1995             0   \n",
       "...          ...    ...         ...            ...       ...           ...   \n",
       "21592          3      8        1530              0      2009             0   \n",
       "21593          3      8        2310              0      2014             0   \n",
       "21594          3      7        1020              0      2009             0   \n",
       "21595          3      8        1600              0      2004             0   \n",
       "21596          3      7        1020              0      2008             0   \n",
       "\n",
       "       zipcode      lat     long  sqft_living15  sqft_lot15     price  \n",
       "0        98178  47.5112 -122.257           1340        5650  221900.0  \n",
       "2        98028  47.7379 -122.233           2720        8062  180000.0  \n",
       "3        98136  47.5208 -122.393           1360        5000  604000.0  \n",
       "4        98074  47.6168 -122.045           1800        7503  510000.0  \n",
       "6        98003  47.3097 -122.327           2238        6819  257500.0  \n",
       "...        ...      ...      ...            ...         ...       ...  \n",
       "21592    98103  47.6993 -122.346           1530        1509  360000.0  \n",
       "21593    98146  47.5107 -122.362           1830        7200  400000.0  \n",
       "21594    98144  47.5944 -122.299           1020        2007  402101.0  \n",
       "21595    98027  47.5345 -122.069           1410        1287  400000.0  \n",
       "21596    98144  47.5941 -122.299           1020        1357  325000.0  \n",
       "\n",
       "[13660 rows x 19 columns]"
      ]
     },
     "execution_count": 29,
     "metadata": {},
     "output_type": "execute_result"
    }
   ],
   "source": [
    "# If we count total Rows now after removing outliers it is 13660 before removing outliers it was 21597\n",
    "# So a total of 7937 outliers were got removed\n",
    "dataset"
   ]
  },
  {
   "cell_type": "code",
   "execution_count": 13,
   "metadata": {
    "scrolled": true
   },
   "outputs": [
    {
     "data": {
      "image/png": "[encoded data removed]",
      "text/plain": [
       "<Figure size 720x2160 with 2 Axes>"
      ]
     },
     "metadata": {
      "needs_background": "light"
     },
     "output_type": "display_data"
    }
   ],
   "source": [
    "# Visually correlating All the Independedn Columns with Sale Price \n",
    "\n",
    "import seaborn as sns\n",
    "import matplotlib.pyplot as plt\n",
    "plt.figure(figsize=(10, 30))\n",
    "heatmap = sns.heatmap(dataset.corr()[['price']].sort_values(by='price', ascending=False), vmin=-1, vmax=1, annot=True, cmap='BrBG')\n",
    "heatmap.set_title('Features Correlating with Sales Price', fontdict={'fontsize':18}, pad=16);"
   ]
  },
  {
   "cell_type": "markdown",
   "metadata": {},
   "source": [
    "# Splitting Dataset"
   ]
  },
  {
   "cell_type": "code",
   "execution_count": 14,
   "metadata": {},
   "outputs": [],
   "source": [
    "y=dataset[['price']]\n",
    "x=dataset.drop(['price'],axis=1)"
   ]
  },
  {
   "cell_type": "code",
   "execution_count": 15,
   "metadata": {},
   "outputs": [],
   "source": [
    "from sklearn.model_selection import train_test_split\n",
    "x_train,x_test,y_train,y_test=train_test_split(x,y,random_state=15,train_size=0.80)"
   ]
  },
  {
   "cell_type": "code",
   "execution_count": null,
   "metadata": {},
   "outputs": [],
   "source": []
  },
  {
   "cell_type": "markdown",
   "metadata": {},
   "source": [
    "# Linear Regression"
   ]
  },
  {
   "cell_type": "code",
   "execution_count": 16,
   "metadata": {},
   "outputs": [
    {
     "data": {
      "text/plain": [
       "0.6182280907379067"
      ]
     },
     "execution_count": 16,
     "metadata": {},
     "output_type": "execute_result"
    }
   ],
   "source": [
    "from sklearn import linear_model\n",
    "from sklearn import linear_model\n",
    "model=linear_model.LinearRegression()\n",
    "model.fit(x_train, y_train)\n",
    "model.score(x_test,y_test)"
   ]
  },
  {
   "cell_type": "markdown",
   "metadata": {},
   "source": [
    "# Evaluating Model Linear Regression "
   ]
  },
  {
   "cell_type": "code",
   "execution_count": 17,
   "metadata": {},
   "outputs": [
    {
     "name": "stdout",
     "output_type": "stream",
     "text": [
      "The model performance for testing set\n",
      "--------------------------------------\n",
      "MAE is 76099.18061642989\n",
      "MSE is 9684397969.048141\n",
      "R2 score is 0.6182280907379067\n"
     ]
    }
   ],
   "source": [
    "# model evaluation for testing set\n",
    "from sklearn import metrics\n",
    "y_predicted=model.predict(x_test)\n",
    "mae = metrics.mean_absolute_error(y_test, y_predicted)\n",
    "mse = metrics.mean_squared_error(y_test, y_predicted)\n",
    "r2 = metrics.r2_score(y_test, y_predicted)\n",
    "\n",
    "print(\"The model performance for testing set\")\n",
    "print(\"--------------------------------------\")\n",
    "print('MAE is {}'.format(mae))\n",
    "print('MSE is {}'.format(mse))\n",
    "print('R2 score is {}'.format(r2))"
   ]
  },
  {
   "cell_type": "code",
   "execution_count": null,
   "metadata": {},
   "outputs": [],
   "source": []
  },
  {
   "cell_type": "markdown",
   "metadata": {},
   "source": [
    "# Random Forest Regressor"
   ]
  },
  {
   "cell_type": "code",
   "execution_count": 18,
   "metadata": {},
   "outputs": [
    {
     "name": "stderr",
     "output_type": "stream",
     "text": [
      "C:\\Users\\Acer\\Anaconda3\\lib\\site-packages\\ipykernel_launcher.py:3: DataConversionWarning: A column-vector y was passed when a 1d array was expected. Please change the shape of y to (n_samples,), for example using ravel().\n",
      "  This is separate from the ipykernel package so we can avoid doing imports until\n"
     ]
    },
    {
     "data": {
      "text/plain": [
       "0.8448396437044926"
      ]
     },
     "execution_count": 18,
     "metadata": {},
     "output_type": "execute_result"
    }
   ],
   "source": [
    "from sklearn.ensemble import RandomForestRegressor\n",
    "regressor = RandomForestRegressor(n_estimators=200) \n",
    "regressor.fit(x_train, y_train) \n",
    "regressor.score(x_test,y_test)\n"
   ]
  },
  {
   "cell_type": "markdown",
   "metadata": {},
   "source": [
    "# Evaluating Model"
   ]
  },
  {
   "cell_type": "code",
   "execution_count": null,
   "metadata": {},
   "outputs": [],
   "source": []
  },
  {
   "cell_type": "code",
   "execution_count": 19,
   "metadata": {},
   "outputs": [
    {
     "name": "stdout",
     "output_type": "stream",
     "text": [
      "The model performance for testing set\n",
      "--------------------------------------\n",
      "MAE is 44954.840751955075\n",
      "MSE is 3935948672.3089743\n",
      "R2 score is 0.8448396437044926\n"
     ]
    }
   ],
   "source": [
    "# model evaluation for testing set\n",
    "from sklearn import metrics\n",
    "y_predicted=regressor.predict(x_test)\n",
    "mae = metrics.mean_absolute_error(y_test, y_predicted)\n",
    "mse = metrics.mean_squared_error(y_test, y_predicted)\n",
    "r2 = metrics.r2_score(y_test, y_predicted)\n",
    "\n",
    "print(\"The model performance for testing set\")\n",
    "print(\"--------------------------------------\")\n",
    "print('MAE is {}'.format(mae))\n",
    "print('MSE is {}'.format(mse))\n",
    "print('R2 score is {}'.format(r2))"
   ]
  },
  {
   "cell_type": "code",
   "execution_count": null,
   "metadata": {},
   "outputs": [],
   "source": []
  },
  {
   "cell_type": "markdown",
   "metadata": {},
   "source": [
    "# Support Vector Regressor"
   ]
  },
  {
   "cell_type": "code",
   "execution_count": 20,
   "metadata": {},
   "outputs": [
    {
     "name": "stderr",
     "output_type": "stream",
     "text": [
      "C:\\Users\\Acer\\Anaconda3\\lib\\site-packages\\sklearn\\utils\\validation.py:993: DataConversionWarning: A column-vector y was passed when a 1d array was expected. Please change the shape of y to (n_samples, ), for example using ravel().\n",
      "  y = column_or_1d(y, warn=True)\n"
     ]
    },
    {
     "data": {
      "text/plain": [
       "0.3413508794050114"
      ]
     },
     "execution_count": 20,
     "metadata": {},
     "output_type": "execute_result"
    }
   ],
   "source": [
    "from sklearn.svm import SVR\n",
    "\n",
    "regressor = SVR(C=5,kernel='linear')\n",
    "regressor.fit(x_train, y_train) \n",
    "regressor.score(x_test,y_test)"
   ]
  },
  {
   "cell_type": "code",
   "execution_count": null,
   "metadata": {},
   "outputs": [],
   "source": []
  },
  {
   "cell_type": "markdown",
   "metadata": {},
   "source": [
    "# Evaluation of Model SVR"
   ]
  },
  {
   "cell_type": "code",
   "execution_count": 21,
   "metadata": {},
   "outputs": [
    {
     "name": "stdout",
     "output_type": "stream",
     "text": [
      "The model performance for testing set\n",
      "--------------------------------------\n",
      "MAE is 103462.47008401912\n",
      "MSE is 16707934897.919416\n",
      "R2 score is 0.3413508794050114\n"
     ]
    }
   ],
   "source": [
    "# model evaluation for testing set\n",
    "from sklearn import metrics\n",
    "y_predicted=regressor.predict(x_test)\n",
    "mae = metrics.mean_absolute_error(y_test, y_predicted)\n",
    "mse = metrics.mean_squared_error(y_test, y_predicted)\n",
    "r2 = metrics.r2_score(y_test, y_predicted)\n",
    "\n",
    "print(\"The model performance for testing set\")\n",
    "print(\"--------------------------------------\")\n",
    "print('MAE is {}'.format(mae))\n",
    "print('MSE is {}'.format(mse))\n",
    "print('R2 score is {}'.format(r2))"
   ]
  },
  {
   "cell_type": "code",
   "execution_count": null,
   "metadata": {},
   "outputs": [],
   "source": []
  },
  {
   "cell_type": "markdown",
   "metadata": {},
   "source": [
    "# DecisionTreeRegressor"
   ]
  },
  {
   "cell_type": "code",
   "execution_count": 22,
   "metadata": {},
   "outputs": [
    {
     "data": {
      "text/plain": [
       "0.6861565387156621"
      ]
     },
     "execution_count": 22,
     "metadata": {},
     "output_type": "execute_result"
    }
   ],
   "source": [
    "from sklearn.tree import DecisionTreeRegressor\n",
    "model=DecisionTreeRegressor()\n",
    "model.fit(x_train, y_train) \n",
    "model.score(x_test,y_test)"
   ]
  },
  {
   "cell_type": "code",
   "execution_count": null,
   "metadata": {},
   "outputs": [],
   "source": []
  },
  {
   "cell_type": "markdown",
   "metadata": {},
   "source": [
    "# DecisionTreeRegressor Model Evaluation"
   ]
  },
  {
   "cell_type": "code",
   "execution_count": null,
   "metadata": {},
   "outputs": [],
   "source": []
  },
  {
   "cell_type": "code",
   "execution_count": 23,
   "metadata": {},
   "outputs": [
    {
     "name": "stdout",
     "output_type": "stream",
     "text": [
      "The model performance for testing set\n",
      "--------------------------------------\n",
      "MAE is 63600.94491215227\n",
      "MSE is 7961258817.9569\n",
      "R2 score is 0.6861565387156621\n"
     ]
    }
   ],
   "source": [
    "# model evaluation for testing set\n",
    "from sklearn import metrics\n",
    "y_predicted=model.predict(x_test)\n",
    "mae = metrics.mean_absolute_error(y_test, y_predicted)\n",
    "mse = metrics.mean_squared_error(y_test, y_predicted)\n",
    "r2 = metrics.r2_score(y_test, y_predicted)\n",
    "\n",
    "print(\"The model performance for testing set\")\n",
    "print(\"--------------------------------------\")\n",
    "print('MAE is {}'.format(mae))\n",
    "print('MSE is {}'.format(mse))\n",
    "print('R2 score is {}'.format(r2))"
   ]
  },
  {
   "cell_type": "code",
   "execution_count": null,
   "metadata": {},
   "outputs": [],
   "source": []
  },
  {
   "cell_type": "markdown",
   "metadata": {},
   "source": [
    "- Hence it was observed that Random Forest Regressor was the best model for this problem with highest accuracy of 84%\n",
    "- Mean squared Error = 44954.840751955075\n",
    "- Mean Absolute Error= 3935948672.3089743\n",
    "- R2 Score=   0.8448396437044926\n",
    "- So in camparison of it with all other Models this model obviouly did a great job"
   ]
  },
  {
   "cell_type": "markdown",
   "metadata": {},
   "source": [
    "# Implementing ANN"
   ]
  },
  {
   "cell_type": "code",
   "execution_count": null,
   "metadata": {},
   "outputs": [],
   "source": []
  },
  {
   "cell_type": "markdown",
   "metadata": {},
   "source": [
    "# Scaling data"
   ]
  },
  {
   "cell_type": "code",
   "execution_count": 24,
   "metadata": {},
   "outputs": [],
   "source": [
    "# Scaling data to avoid overfitting \n",
    "\n",
    "from sklearn.preprocessing import StandardScaler\n",
    "standard_scaler = StandardScaler()\n",
    "x_trained = pd.DataFrame(\n",
    "      standard_scaler.fit_transform(x_train),\n",
    "      columns=x_train.columns\n",
    "  )\n",
    "x_tested = pd.DataFrame(\n",
    "      standard_scaler.transform(x_test),\n",
    "      columns = x_test.columns\n",
    "  )"
   ]
  },
  {
   "cell_type": "markdown",
   "metadata": {},
   "source": [
    "# Importing libraries"
   ]
  },
  {
   "cell_type": "code",
   "execution_count": 25,
   "metadata": {},
   "outputs": [],
   "source": [
    "import keras\n",
    "from keras.models import Sequential\n",
    "from keras.layers import Dense\n",
    "from keras.layers import LeakyReLU,PReLU,ELU\n",
    "from keras.layers import Dropout\n",
    "from tensorflow.keras.optimizers import Adam\n",
    "from tensorflow.keras.losses import MeanSquaredLogarithmicError"
   ]
  },
  {
   "cell_type": "markdown",
   "metadata": {},
   "source": [
    "# Parametric the Layers"
   ]
  },
  {
   "cell_type": "code",
   "execution_count": 30,
   "metadata": {},
   "outputs": [],
   "source": [
    "\n",
    "\n",
    "hidden_units1 = 160\n",
    "hidden_units2 = 480\n",
    "hidden_units3 = 256\n",
    "learning_rate = 0.001\n",
    "# Creating model using the Sequential in tensorflow\n",
    "def build_model_using_sequential():\n",
    "  model = Sequential([\n",
    "    Dense(hidden_units1, kernel_initializer='normal', activation='relu'),\n",
    "    Dropout(0.2),\n",
    "    Dense(hidden_units2, kernel_initializer='normal', activation='relu'),\n",
    "    Dropout(0.2),\n",
    "    Dense(hidden_units3, kernel_initializer='normal', activation='relu'),\n",
    "    Dense(1, kernel_initializer='normal', activation='linear')\n",
    "  ])\n",
    "  return model\n",
    "# build the model\n",
    "model = build_model_using_sequential()"
   ]
  },
  {
   "cell_type": "code",
   "execution_count": 31,
   "metadata": {
    "scrolled": true
   },
   "outputs": [
    {
     "name": "stdout",
     "output_type": "stream",
     "text": [
      "Epoch 1/100\n",
      "137/137 [==============================] - 3s 12ms/step - loss: 58.0850 - mean_squared_logarithmic_error: 57.9920 - val_loss: 25.6292 - val_mean_squared_logarithmic_error: 25.6491\n",
      "Epoch 2/100\n",
      "137/137 [==============================] - 1s 9ms/step - loss: 17.9172 - mean_squared_logarithmic_error: 17.9049 - val_loss: 12.5482 - val_mean_squared_logarithmic_error: 12.5645\n",
      "Epoch 3/100\n",
      "137/137 [==============================] - 1s 9ms/step - loss: 9.5347 - mean_squared_logarithmic_error: 9.5272 - val_loss: 7.2226 - val_mean_squared_logarithmic_error: 7.2361\n",
      "Epoch 4/100\n",
      "137/137 [==============================] - 1s 9ms/step - loss: 5.6940 - mean_squared_logarithmic_error: 5.6898 - val_loss: 4.4828 - val_mean_squared_logarithmic_error: 4.4942\n",
      "Epoch 5/100\n",
      "137/137 [==============================] - 1s 9ms/step - loss: 3.5931 - mean_squared_logarithmic_error: 3.5898 - val_loss: 2.8978 - val_mean_squared_logarithmic_error: 2.9075\n",
      "Epoch 6/100\n",
      "137/137 [==============================] - 1s 9ms/step - loss: 2.3485 - mean_squared_logarithmic_error: 2.3476 - val_loss: 1.9198 - val_mean_squared_logarithmic_error: 1.9282\n",
      "Epoch 7/100\n",
      "137/137 [==============================] - 1s 9ms/step - loss: 1.5659 - mean_squared_logarithmic_error: 1.5651 - val_loss: 1.2936 - val_mean_squared_logarithmic_error: 1.3010\n",
      "Epoch 8/100\n",
      "137/137 [==============================] - 1s 9ms/step - loss: 1.0509 - mean_squared_logarithmic_error: 1.0500 - val_loss: 0.8764 - val_mean_squared_logarithmic_error: 0.8828\n",
      "Epoch 9/100\n",
      "137/137 [==============================] - 1s 9ms/step - loss: 0.7175 - mean_squared_logarithmic_error: 0.7174 - val_loss: 0.6141 - val_mean_squared_logarithmic_error: 0.6198\n",
      "Epoch 10/100\n",
      "137/137 [==============================] - 1s 9ms/step - loss: 0.5120 - mean_squared_logarithmic_error: 0.5118 - val_loss: 0.4509 - val_mean_squared_logarithmic_error: 0.4560\n",
      "Epoch 11/100\n",
      "137/137 [==============================] - 1s 9ms/step - loss: 0.3841 - mean_squared_logarithmic_error: 0.3838 - val_loss: 0.3508 - val_mean_squared_logarithmic_error: 0.3554\n",
      "Epoch 12/100\n",
      "137/137 [==============================] - 1s 9ms/step - loss: 0.3057 - mean_squared_logarithmic_error: 0.3054 - val_loss: 0.2881 - val_mean_squared_logarithmic_error: 0.2923\n",
      "Epoch 13/100\n",
      "137/137 [==============================] - 1s 9ms/step - loss: 0.2572 - mean_squared_logarithmic_error: 0.2571 - val_loss: 0.2487 - val_mean_squared_logarithmic_error: 0.2526\n",
      "Epoch 14/100\n",
      "137/137 [==============================] - 1s 9ms/step - loss: 0.2267 - mean_squared_logarithmic_error: 0.2268 - val_loss: 0.2230 - val_mean_squared_logarithmic_error: 0.2267\n",
      "Epoch 15/100\n",
      "137/137 [==============================] - 1s 9ms/step - loss: 0.2068 - mean_squared_logarithmic_error: 0.2067 - val_loss: 0.2053 - val_mean_squared_logarithmic_error: 0.2088\n",
      "Epoch 16/100\n",
      "137/137 [==============================] - 1s 9ms/step - loss: 0.1920 - mean_squared_logarithmic_error: 0.1918 - val_loss: 0.1924 - val_mean_squared_logarithmic_error: 0.1958\n",
      "Epoch 17/100\n",
      "137/137 [==============================] - 1s 9ms/step - loss: 0.1810 - mean_squared_logarithmic_error: 0.1812 - val_loss: 0.1822 - val_mean_squared_logarithmic_error: 0.1854\n",
      "Epoch 18/100\n",
      "137/137 [==============================] - 1s 10ms/step - loss: 0.1715 - mean_squared_logarithmic_error: 0.1715 - val_loss: 0.1734 - val_mean_squared_logarithmic_error: 0.1764\n",
      "Epoch 19/100\n",
      "137/137 [==============================] - 1s 10ms/step - loss: 0.1648 - mean_squared_logarithmic_error: 0.1647 - val_loss: 0.1654 - val_mean_squared_logarithmic_error: 0.1684\n",
      "Epoch 20/100\n",
      "137/137 [==============================] - 1s 10ms/step - loss: 0.1554 - mean_squared_logarithmic_error: 0.1555 - val_loss: 0.1581 - val_mean_squared_logarithmic_error: 0.1609\n",
      "Epoch 21/100\n",
      "137/137 [==============================] - 1s 9ms/step - loss: 0.1490 - mean_squared_logarithmic_error: 0.1491 - val_loss: 0.1511 - val_mean_squared_logarithmic_error: 0.1538\n",
      "Epoch 22/100\n",
      "137/137 [==============================] - 1s 9ms/step - loss: 0.1440 - mean_squared_logarithmic_error: 0.1439 - val_loss: 0.1444 - val_mean_squared_logarithmic_error: 0.1470\n",
      "Epoch 23/100\n",
      "137/137 [==============================] - 1s 9ms/step - loss: 0.1372 - mean_squared_logarithmic_error: 0.1371 - val_loss: 0.1381 - val_mean_squared_logarithmic_error: 0.1406\n",
      "Epoch 24/100\n",
      "137/137 [==============================] - 1s 10ms/step - loss: 0.1320 - mean_squared_logarithmic_error: 0.1321 - val_loss: 0.1320 - val_mean_squared_logarithmic_error: 0.1344\n",
      "Epoch 25/100\n",
      "137/137 [==============================] - 1s 10ms/step - loss: 0.1257 - mean_squared_logarithmic_error: 0.1258 - val_loss: 0.1263 - val_mean_squared_logarithmic_error: 0.1285\n",
      "Epoch 26/100\n",
      "137/137 [==============================] - 1s 10ms/step - loss: 0.1206 - mean_squared_logarithmic_error: 0.1208 - val_loss: 0.1207 - val_mean_squared_logarithmic_error: 0.1228\n",
      "Epoch 27/100\n",
      "137/137 [==============================] - 1s 9ms/step - loss: 0.1168 - mean_squared_logarithmic_error: 0.1166 - val_loss: 0.1154 - val_mean_squared_logarithmic_error: 0.1173\n",
      "Epoch 28/100\n",
      "137/137 [==============================] - 1s 9ms/step - loss: 0.1114 - mean_squared_logarithmic_error: 0.1114 - val_loss: 0.1105 - val_mean_squared_logarithmic_error: 0.1123\n",
      "Epoch 29/100\n",
      "137/137 [==============================] - 1s 9ms/step - loss: 0.1063 - mean_squared_logarithmic_error: 0.1062 - val_loss: 0.1058 - val_mean_squared_logarithmic_error: 0.1075\n",
      "Epoch 30/100\n",
      "137/137 [==============================] - 1s 10ms/step - loss: 0.1032 - mean_squared_logarithmic_error: 0.1031 - val_loss: 0.1014 - val_mean_squared_logarithmic_error: 0.1030\n",
      "Epoch 31/100\n",
      "137/137 [==============================] - 1s 10ms/step - loss: 0.0994 - mean_squared_logarithmic_error: 0.0995 - val_loss: 0.0973 - val_mean_squared_logarithmic_error: 0.0987\n",
      "Epoch 32/100\n",
      "137/137 [==============================] - 1s 10ms/step - loss: 0.0949 - mean_squared_logarithmic_error: 0.0950 - val_loss: 0.0935 - val_mean_squared_logarithmic_error: 0.0947\n",
      "Epoch 33/100\n",
      "137/137 [==============================] - 1s 9ms/step - loss: 0.0917 - mean_squared_logarithmic_error: 0.0916 - val_loss: 0.0900 - val_mean_squared_logarithmic_error: 0.0911\n",
      "Epoch 34/100\n",
      "137/137 [==============================] - 1s 9ms/step - loss: 0.0890 - mean_squared_logarithmic_error: 0.0889 - val_loss: 0.0867 - val_mean_squared_logarithmic_error: 0.0877\n",
      "Epoch 35/100\n",
      "137/137 [==============================] - 1s 9ms/step - loss: 0.0862 - mean_squared_logarithmic_error: 0.0863 - val_loss: 0.0836 - val_mean_squared_logarithmic_error: 0.0845\n",
      "Epoch 36/100\n",
      "137/137 [==============================] - 1s 9ms/step - loss: 0.0828 - mean_squared_logarithmic_error: 0.0828 - val_loss: 0.0808 - val_mean_squared_logarithmic_error: 0.0816\n",
      "Epoch 37/100\n",
      "137/137 [==============================] - 1s 10ms/step - loss: 0.0803 - mean_squared_logarithmic_error: 0.0803 - val_loss: 0.0783 - val_mean_squared_logarithmic_error: 0.0789\n",
      "Epoch 38/100\n",
      "137/137 [==============================] - 1s 10ms/step - loss: 0.0782 - mean_squared_logarithmic_error: 0.0781 - val_loss: 0.0759 - val_mean_squared_logarithmic_error: 0.0764\n",
      "Epoch 39/100\n",
      "137/137 [==============================] - 1s 9ms/step - loss: 0.0765 - mean_squared_logarithmic_error: 0.0764 - val_loss: 0.0736 - val_mean_squared_logarithmic_error: 0.0740\n",
      "Epoch 40/100\n",
      "137/137 [==============================] - 1s 9ms/step - loss: 0.0751 - mean_squared_logarithmic_error: 0.0752 - val_loss: 0.0715 - val_mean_squared_logarithmic_error: 0.0719\n",
      "Epoch 41/100\n",
      "137/137 [==============================] - 1s 9ms/step - loss: 0.0724 - mean_squared_logarithmic_error: 0.0723 - val_loss: 0.0695 - val_mean_squared_logarithmic_error: 0.0698\n",
      "Epoch 42/100\n",
      "137/137 [==============================] - 1s 9ms/step - loss: 0.0708 - mean_squared_logarithmic_error: 0.0708 - val_loss: 0.0678 - val_mean_squared_logarithmic_error: 0.0680\n",
      "Epoch 43/100\n",
      "137/137 [==============================] - 1s 9ms/step - loss: 0.0698 - mean_squared_logarithmic_error: 0.0699 - val_loss: 0.0660 - val_mean_squared_logarithmic_error: 0.0661\n",
      "Epoch 44/100\n"
     ]
    },
    {
     "name": "stdout",
     "output_type": "stream",
     "text": [
      "137/137 [==============================] - 1s 9ms/step - loss: 0.0681 - mean_squared_logarithmic_error: 0.0681 - val_loss: 0.0644 - val_mean_squared_logarithmic_error: 0.0645\n",
      "Epoch 45/100\n",
      "137/137 [==============================] - 1s 9ms/step - loss: 0.0668 - mean_squared_logarithmic_error: 0.0668 - val_loss: 0.0629 - val_mean_squared_logarithmic_error: 0.0630\n",
      "Epoch 46/100\n",
      "137/137 [==============================] - 1s 10ms/step - loss: 0.0651 - mean_squared_logarithmic_error: 0.0651 - val_loss: 0.0614 - val_mean_squared_logarithmic_error: 0.0615\n",
      "Epoch 47/100\n",
      "137/137 [==============================] - 1s 10ms/step - loss: 0.0635 - mean_squared_logarithmic_error: 0.0635 - val_loss: 0.0600 - val_mean_squared_logarithmic_error: 0.0600\n",
      "Epoch 48/100\n",
      "137/137 [==============================] - 1s 9ms/step - loss: 0.0627 - mean_squared_logarithmic_error: 0.0627 - val_loss: 0.0587 - val_mean_squared_logarithmic_error: 0.0587\n",
      "Epoch 49/100\n",
      "137/137 [==============================] - 1s 10ms/step - loss: 0.0617 - mean_squared_logarithmic_error: 0.0617 - val_loss: 0.0574 - val_mean_squared_logarithmic_error: 0.0574\n",
      "Epoch 50/100\n",
      "137/137 [==============================] - 1s 9ms/step - loss: 0.0605 - mean_squared_logarithmic_error: 0.0605 - val_loss: 0.0563 - val_mean_squared_logarithmic_error: 0.0562\n",
      "Epoch 51/100\n",
      "137/137 [==============================] - 1s 9ms/step - loss: 0.0587 - mean_squared_logarithmic_error: 0.0586 - val_loss: 0.0552 - val_mean_squared_logarithmic_error: 0.0552\n",
      "Epoch 52/100\n",
      "137/137 [==============================] - 1s 9ms/step - loss: 0.0582 - mean_squared_logarithmic_error: 0.0583 - val_loss: 0.0542 - val_mean_squared_logarithmic_error: 0.0542\n",
      "Epoch 53/100\n",
      "137/137 [==============================] - 1s 9ms/step - loss: 0.0568 - mean_squared_logarithmic_error: 0.0567 - val_loss: 0.0532 - val_mean_squared_logarithmic_error: 0.0532\n",
      "Epoch 54/100\n",
      "137/137 [==============================] - 1s 9ms/step - loss: 0.0568 - mean_squared_logarithmic_error: 0.0568 - val_loss: 0.0523 - val_mean_squared_logarithmic_error: 0.0522\n",
      "Epoch 55/100\n",
      "137/137 [==============================] - 1s 9ms/step - loss: 0.0561 - mean_squared_logarithmic_error: 0.0561 - val_loss: 0.0515 - val_mean_squared_logarithmic_error: 0.0514\n",
      "Epoch 56/100\n",
      "137/137 [==============================] - 1s 9ms/step - loss: 0.0555 - mean_squared_logarithmic_error: 0.0555 - val_loss: 0.0507 - val_mean_squared_logarithmic_error: 0.0506\n",
      "Epoch 57/100\n",
      "137/137 [==============================] - 1s 9ms/step - loss: 0.0551 - mean_squared_logarithmic_error: 0.0552 - val_loss: 0.0500 - val_mean_squared_logarithmic_error: 0.0499\n",
      "Epoch 58/100\n",
      "137/137 [==============================] - 1s 9ms/step - loss: 0.0536 - mean_squared_logarithmic_error: 0.0535 - val_loss: 0.0495 - val_mean_squared_logarithmic_error: 0.0494\n",
      "Epoch 59/100\n",
      "137/137 [==============================] - 1s 9ms/step - loss: 0.0527 - mean_squared_logarithmic_error: 0.0526 - val_loss: 0.0488 - val_mean_squared_logarithmic_error: 0.0487\n",
      "Epoch 60/100\n",
      "137/137 [==============================] - 1s 10ms/step - loss: 0.0525 - mean_squared_logarithmic_error: 0.0524 - val_loss: 0.0482 - val_mean_squared_logarithmic_error: 0.0481\n",
      "Epoch 61/100\n",
      "137/137 [==============================] - 1s 9ms/step - loss: 0.0522 - mean_squared_logarithmic_error: 0.0522 - val_loss: 0.0477 - val_mean_squared_logarithmic_error: 0.0476\n",
      "Epoch 62/100\n",
      "137/137 [==============================] - 1s 9ms/step - loss: 0.0513 - mean_squared_logarithmic_error: 0.0514 - val_loss: 0.0472 - val_mean_squared_logarithmic_error: 0.0471\n",
      "Epoch 63/100\n",
      "137/137 [==============================] - 1s 9ms/step - loss: 0.0513 - mean_squared_logarithmic_error: 0.0513 - val_loss: 0.0469 - val_mean_squared_logarithmic_error: 0.0468\n",
      "Epoch 64/100\n",
      "137/137 [==============================] - 1s 9ms/step - loss: 0.0514 - mean_squared_logarithmic_error: 0.0513 - val_loss: 0.0464 - val_mean_squared_logarithmic_error: 0.0463\n",
      "Epoch 65/100\n",
      "137/137 [==============================] - 1s 9ms/step - loss: 0.0496 - mean_squared_logarithmic_error: 0.0496 - val_loss: 0.0461 - val_mean_squared_logarithmic_error: 0.0459\n",
      "Epoch 66/100\n",
      "137/137 [==============================] - 1s 9ms/step - loss: 0.0498 - mean_squared_logarithmic_error: 0.0499 - val_loss: 0.0458 - val_mean_squared_logarithmic_error: 0.0456\n",
      "Epoch 67/100\n",
      "137/137 [==============================] - 1s 10ms/step - loss: 0.0490 - mean_squared_logarithmic_error: 0.0491 - val_loss: 0.0457 - val_mean_squared_logarithmic_error: 0.0455\n",
      "Epoch 68/100\n",
      "137/137 [==============================] - 1s 9ms/step - loss: 0.0492 - mean_squared_logarithmic_error: 0.0492 - val_loss: 0.0453 - val_mean_squared_logarithmic_error: 0.0451\n",
      "Epoch 69/100\n",
      "137/137 [==============================] - 1s 10ms/step - loss: 0.0488 - mean_squared_logarithmic_error: 0.0488 - val_loss: 0.0450 - val_mean_squared_logarithmic_error: 0.0448\n",
      "Epoch 70/100\n",
      "137/137 [==============================] - 1s 9ms/step - loss: 0.0488 - mean_squared_logarithmic_error: 0.0488 - val_loss: 0.0450 - val_mean_squared_logarithmic_error: 0.0448\n",
      "Epoch 71/100\n",
      "137/137 [==============================] - 1s 9ms/step - loss: 0.0485 - mean_squared_logarithmic_error: 0.0485 - val_loss: 0.0449 - val_mean_squared_logarithmic_error: 0.0447\n",
      "Epoch 72/100\n",
      "137/137 [==============================] - 1s 9ms/step - loss: 0.0481 - mean_squared_logarithmic_error: 0.0480 - val_loss: 0.0448 - val_mean_squared_logarithmic_error: 0.0446\n",
      "Epoch 73/100\n",
      "137/137 [==============================] - 1s 9ms/step - loss: 0.0479 - mean_squared_logarithmic_error: 0.0479 - val_loss: 0.0442 - val_mean_squared_logarithmic_error: 0.0441\n",
      "Epoch 74/100\n",
      "137/137 [==============================] - 1s 9ms/step - loss: 0.0480 - mean_squared_logarithmic_error: 0.0480 - val_loss: 0.0440 - val_mean_squared_logarithmic_error: 0.0438\n",
      "Epoch 75/100\n",
      "137/137 [==============================] - 1s 9ms/step - loss: 0.0480 - mean_squared_logarithmic_error: 0.0480 - val_loss: 0.0438 - val_mean_squared_logarithmic_error: 0.0436\n",
      "Epoch 76/100\n",
      "137/137 [==============================] - 1s 9ms/step - loss: 0.0467 - mean_squared_logarithmic_error: 0.0467 - val_loss: 0.0439 - val_mean_squared_logarithmic_error: 0.0436\n",
      "Epoch 77/100\n",
      "137/137 [==============================] - 1s 10ms/step - loss: 0.0473 - mean_squared_logarithmic_error: 0.0473 - val_loss: 0.0438 - val_mean_squared_logarithmic_error: 0.0436\n",
      "Epoch 78/100\n",
      "137/137 [==============================] - 1s 9ms/step - loss: 0.0472 - mean_squared_logarithmic_error: 0.0473 - val_loss: 0.0438 - val_mean_squared_logarithmic_error: 0.0436\n",
      "Epoch 79/100\n",
      "137/137 [==============================] - 1s 9ms/step - loss: 0.0467 - mean_squared_logarithmic_error: 0.0467 - val_loss: 0.0434 - val_mean_squared_logarithmic_error: 0.0432\n",
      "Epoch 80/100\n",
      "137/137 [==============================] - 1s 9ms/step - loss: 0.0463 - mean_squared_logarithmic_error: 0.0463 - val_loss: 0.0435 - val_mean_squared_logarithmic_error: 0.0433\n",
      "Epoch 81/100\n",
      "137/137 [==============================] - 1s 9ms/step - loss: 0.0466 - mean_squared_logarithmic_error: 0.0465 - val_loss: 0.0436 - val_mean_squared_logarithmic_error: 0.0434\n",
      "Epoch 82/100\n",
      "137/137 [==============================] - 1s 10ms/step - loss: 0.0469 - mean_squared_logarithmic_error: 0.0469 - val_loss: 0.0435 - val_mean_squared_logarithmic_error: 0.0433\n",
      "Epoch 83/100\n",
      "137/137 [==============================] - 1s 10ms/step - loss: 0.0466 - mean_squared_logarithmic_error: 0.0466 - val_loss: 0.0431 - val_mean_squared_logarithmic_error: 0.0428\n",
      "Epoch 84/100\n",
      "137/137 [==============================] - 1s 10ms/step - loss: 0.0464 - mean_squared_logarithmic_error: 0.0464 - val_loss: 0.0431 - val_mean_squared_logarithmic_error: 0.0429\n",
      "Epoch 85/100\n",
      "137/137 [==============================] - 1s 9ms/step - loss: 0.0462 - mean_squared_logarithmic_error: 0.0462 - val_loss: 0.0431 - val_mean_squared_logarithmic_error: 0.0429\n",
      "Epoch 86/100\n",
      "137/137 [==============================] - 1s 9ms/step - loss: 0.0459 - mean_squared_logarithmic_error: 0.0460 - val_loss: 0.0427 - val_mean_squared_logarithmic_error: 0.0425\n",
      "Epoch 87/100\n"
     ]
    },
    {
     "name": "stdout",
     "output_type": "stream",
     "text": [
      "137/137 [==============================] - 1s 9ms/step - loss: 0.0461 - mean_squared_logarithmic_error: 0.0461 - val_loss: 0.0430 - val_mean_squared_logarithmic_error: 0.0427\n",
      "Epoch 88/100\n",
      "137/137 [==============================] - 1s 9ms/step - loss: 0.0461 - mean_squared_logarithmic_error: 0.0460 - val_loss: 0.0430 - val_mean_squared_logarithmic_error: 0.0428\n",
      "Epoch 89/100\n",
      "137/137 [==============================] - 1s 9ms/step - loss: 0.0462 - mean_squared_logarithmic_error: 0.0462 - val_loss: 0.0432 - val_mean_squared_logarithmic_error: 0.0430\n",
      "Epoch 90/100\n",
      "137/137 [==============================] - 1s 9ms/step - loss: 0.0455 - mean_squared_logarithmic_error: 0.0455 - val_loss: 0.0429 - val_mean_squared_logarithmic_error: 0.0427\n",
      "Epoch 91/100\n",
      "137/137 [==============================] - 1s 10ms/step - loss: 0.0455 - mean_squared_logarithmic_error: 0.0456 - val_loss: 0.0426 - val_mean_squared_logarithmic_error: 0.0423\n",
      "Epoch 92/100\n",
      "137/137 [==============================] - 1s 9ms/step - loss: 0.0454 - mean_squared_logarithmic_error: 0.0454 - val_loss: 0.0427 - val_mean_squared_logarithmic_error: 0.0425\n",
      "Epoch 93/100\n",
      "137/137 [==============================] - 1s 9ms/step - loss: 0.0451 - mean_squared_logarithmic_error: 0.0451 - val_loss: 0.0426 - val_mean_squared_logarithmic_error: 0.0423\n",
      "Epoch 94/100\n",
      "137/137 [==============================] - 1s 10ms/step - loss: 0.0454 - mean_squared_logarithmic_error: 0.0454 - val_loss: 0.0429 - val_mean_squared_logarithmic_error: 0.0427\n",
      "Epoch 95/100\n",
      "137/137 [==============================] - 1s 9ms/step - loss: 0.0452 - mean_squared_logarithmic_error: 0.0452 - val_loss: 0.0426 - val_mean_squared_logarithmic_error: 0.0424\n",
      "Epoch 96/100\n",
      "137/137 [==============================] - 1s 10ms/step - loss: 0.0448 - mean_squared_logarithmic_error: 0.0449 - val_loss: 0.0424 - val_mean_squared_logarithmic_error: 0.0422\n",
      "Epoch 97/100\n",
      "137/137 [==============================] - 1s 9ms/step - loss: 0.0445 - mean_squared_logarithmic_error: 0.0445 - val_loss: 0.0423 - val_mean_squared_logarithmic_error: 0.0421\n",
      "Epoch 98/100\n",
      "137/137 [==============================] - 1s 10ms/step - loss: 0.0447 - mean_squared_logarithmic_error: 0.0448 - val_loss: 0.0425 - val_mean_squared_logarithmic_error: 0.0422\n",
      "Epoch 99/100\n",
      "137/137 [==============================] - 1s 9ms/step - loss: 0.0450 - mean_squared_logarithmic_error: 0.0450 - val_loss: 0.0422 - val_mean_squared_logarithmic_error: 0.0420\n",
      "Epoch 100/100\n",
      "137/137 [==============================] - 1s 10ms/step - loss: 0.0450 - mean_squared_logarithmic_error: 0.0449 - val_loss: 0.0424 - val_mean_squared_logarithmic_error: 0.0421\n"
     ]
    }
   ],
   "source": [
    "# loss function\n",
    "msle = MeanSquaredLogarithmicError()\n",
    "model.compile(\n",
    "    loss=msle, \n",
    "    optimizer=Adam(learning_rate=learning_rate), \n",
    "    metrics=[msle]\n",
    ")\n",
    "# train the model\n",
    "history = model.fit(\n",
    "    x_trained.values, \n",
    "    y_train.values, \n",
    "    epochs=100, \n",
    "    batch_size=64,\n",
    "    validation_split=0.2\n",
    ")"
   ]
  },
  {
   "cell_type": "code",
   "execution_count": null,
   "metadata": {},
   "outputs": [],
   "source": []
  },
  {
   "cell_type": "markdown",
   "metadata": {},
   "source": [
    "# ANN MODEL EVALUATION"
   ]
  },
  {
   "cell_type": "code",
   "execution_count": 32,
   "metadata": {},
   "outputs": [
    {
     "data": {
      "image/png": "[encoded data removed]",
      "text/plain": [
       "<Figure size 432x288 with 1 Axes>"
      ]
     },
     "metadata": {
      "needs_background": "light"
     },
     "output_type": "display_data"
    }
   ],
   "source": [
    "def plot_history(history, key):\n",
    "  plt.plot(history.history[key])\n",
    "  plt.plot(history.history['val_'+key])\n",
    "  plt.xlabel(\"Epochs\")\n",
    "  plt.ylabel(key)\n",
    "  plt.legend([key, 'val_'+key])\n",
    "  plt.show()\n",
    "# Plot the history\n",
    "plot_history(history, 'mean_squared_logarithmic_error')"
   ]
  },
  {
   "cell_type": "code",
   "execution_count": null,
   "metadata": {},
   "outputs": [],
   "source": []
  }
 ],
 "metadata": {
  "kernelspec": {
   "display_name": "Python 3",
   "language": "python",
   "name": "python3"
  },
  "language_info": {
   "codemirror_mode": {
    "name": "ipython",
    "version": 3
   },
   "file_extension": ".py",
   "mimetype": "text/x-python",
   "name": "python",
   "nbconvert_exporter": "python",
   "pygments_lexer": "ipython3",
   "version": "3.7.3"
  }
 },
 "nbformat": 4,
 "nbformat_minor": 2
}
